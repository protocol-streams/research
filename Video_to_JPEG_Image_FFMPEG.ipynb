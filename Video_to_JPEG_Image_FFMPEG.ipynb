{
  "nbformat": 4,
  "nbformat_minor": 0,
  "metadata": {
    "colab": {
      "provenance": [],
      "history_visible": true,
      "authorship_tag": "ABX9TyO7yfK3NBsh1nqzTd3RrswC",
      "include_colab_link": true
    },
    "kernelspec": {
      "name": "python3",
      "display_name": "Python 3"
    },
    "language_info": {
      "name": "python"
    }
  },
  "cells": [
    {
      "cell_type": "markdown",
      "metadata": {
        "id": "view-in-github",
        "colab_type": "text"
      },
      "source": [
        "<a href=\"https://colab.research.google.com/github/protocol-streams/research/blob/main/Video_to_JPEG_Image_FFMPEG.ipynb\" target=\"_parent\"><img src=\"https://colab.research.google.com/assets/colab-badge.svg\" alt=\"Open In Colab\"/></a>"
      ]
    },
    {
      "cell_type": "code",
      "execution_count": 1,
      "metadata": {
        "colab": {
          "base_uri": "https://localhost:8080/"
        },
        "id": "PrOqdtQr2zk1",
        "outputId": "3c3e6511-93b5-4e80-d5ef-1f2bbb6548ea"
      },
      "outputs": [
        {
          "output_type": "stream",
          "name": "stdout",
          "text": [
            "Python 3.10.12\n",
            "There are 2 choices for the alternative python3 (providing /usr/bin/python3).\n",
            "\n",
            "  Selection    Path                 Priority   Status\n",
            "------------------------------------------------------------\n",
            "* 0            /usr/bin/python3.10   2         auto mode\n",
            "  1            /usr/bin/python3.10   2         manual mode\n",
            "  2            /usr/bin/python3.8    1         manual mode\n",
            "\n",
            "Press <enter> to keep the current choice[*], or type selection number: 2\n",
            "update-alternatives: using /usr/bin/python3.8 to provide /usr/bin/python3 (python3) in manual mode\n"
          ]
        }
      ],
      "source": [
        "!python --version\n",
        "!sudo update-alternatives --install /usr/bin/python3 python3 /usr/bin/python3.8 1\n",
        "!sudo update-alternatives --config python3"
      ]
    },
    {
      "cell_type": "code",
      "source": [
        "!python3 --version\n",
        "!sudo apt install python3-pip"
      ],
      "metadata": {
        "id": "2asJSJfB3C80"
      },
      "execution_count": null,
      "outputs": []
    },
    {
      "cell_type": "code",
      "source": [
        "# Google drive related\n",
        "!pip install --upgrade google-api-python-client google-auth-httplib2 google-auth-oauthlib\n",
        "import os\n",
        "import cv2\n",
        "from googleapiclient.discovery import build\n",
        "from googleapiclient.http import MediaFileUpload\n",
        "from google.colab import drive\n",
        "drive.mount('/content/drive')"
      ],
      "metadata": {
        "id": "633g40_0gRev"
      },
      "execution_count": null,
      "outputs": []
    },
    {
      "cell_type": "code",
      "source": [
        "!apt-get install ffmpeg -y\n"
      ],
      "metadata": {
        "id": "EuRB6xWDbKVY"
      },
      "execution_count": null,
      "outputs": []
    },
    {
      "cell_type": "code",
      "source": [
        "!apt-get install imagemagick -y"
      ],
      "metadata": {
        "id": "WUtTUXSgn73E"
      },
      "execution_count": null,
      "outputs": []
    },
    {
      "cell_type": "code",
      "source": [
        "%cd drive/MyDrive/Test_Videos"
      ],
      "metadata": {
        "colab": {
          "base_uri": "https://localhost:8080/"
        },
        "id": "b6BPWFQQcGsZ",
        "outputId": "fad9f237-3b6d-4571-dac0-8b9f06c98c0f"
      },
      "execution_count": 5,
      "outputs": [
        {
          "output_type": "stream",
          "name": "stdout",
          "text": [
            "/content/drive/MyDrive/Test_Videos\n"
          ]
        }
      ]
    },
    {
      "cell_type": "code",
      "source": [
        "#Get video metadata\n",
        "!ffmpeg -i paris.mp4\n"
      ],
      "metadata": {
        "id": "bs_Bb9PJc2V1"
      },
      "execution_count": null,
      "outputs": []
    },
    {
      "cell_type": "code",
      "source": [
        "#reduce the framerate to 5 fps\n",
        "!ffmpeg -i paris.mp4 -r 5 paris_output.mp4\n"
      ],
      "metadata": {
        "id": "TE8i9Obcd6J2"
      },
      "execution_count": null,
      "outputs": []
    },
    {
      "cell_type": "code",
      "source": [
        "#Define the video path and extract the video name and create a folder\n",
        "video_path = 'paris_output.mp4'\n",
        "video_name = os.path.splitext(os.path.basename(video_path))[0]\n",
        "\n",
        "os.makedirs(f'/content/drive/MyDrive/Test_Videos/{video_name}')\n",
        "output_path = f'/content/drive/MyDrive/Test_Videos/{video_name}'\n",
        "\n",
        "\n",
        "\n"
      ],
      "metadata": {
        "colab": {
          "base_uri": "https://localhost:8080/"
        },
        "id": "4-SkNqDigl3e",
        "outputId": "909b29f0-ae20-4364-d297-263ab8745a36"
      },
      "execution_count": 12,
      "outputs": [
        {
          "output_type": "stream",
          "name": "stdout",
          "text": [
            "/content/drive/MyDrive/Test_Videos/paris_output\n"
          ]
        }
      ]
    },
    {
      "cell_type": "code",
      "source": [
        "import subprocess\n",
        "command = [\n",
        "    'ffmpeg', '-i', video_path, '-vf', 'fps=5', '-q:v', '10', os.path.join(output_path, 'frame-%04d.jpg')\n",
        "]\n",
        "subprocess.call(command)\n"
      ],
      "metadata": {
        "colab": {
          "base_uri": "https://localhost:8080/"
        },
        "id": "anHF1NuRl0Of",
        "outputId": "48459a79-1a4e-4713-c565-4f1780be8108"
      },
      "execution_count": 22,
      "outputs": [
        {
          "output_type": "execute_result",
          "data": {
            "text/plain": [
              "0"
            ]
          },
          "metadata": {},
          "execution_count": 22
        }
      ]
    }
  ]
}
{
  "nbformat": 4,
  "nbformat_minor": 0,
  "metadata": {
    "colab": {
      "private_outputs": true,
      "provenance": [],
      "machine_shape": "hm",
      "gpuType": "A100",
      "authorship_tag": "ABX9TyPBPgG+fhJ8q8Q6dw6he6YY",
      "include_colab_link": true
    },
    "kernelspec": {
      "name": "python3",
      "display_name": "Python 3"
    },
    "language_info": {
      "name": "python"
    }
  },
  "cells": [
    {
      "cell_type": "markdown",
      "metadata": {
        "id": "view-in-github",
        "colab_type": "text"
      },
      "source": [
        "<a href=\"https://colab.research.google.com/github/protocol-streams/research/blob/main/Inpaint_Anything_remove_anything_Image.ipynb\" target=\"_parent\"><img src=\"https://colab.research.google.com/assets/colab-badge.svg\" alt=\"Open In Colab\"/></a>"
      ]
    },
    {
      "cell_type": "code",
      "execution_count": null,
      "metadata": {
        "id": "pjWc-SAbuIjR"
      },
      "outputs": [],
      "source": [
        "!python --version\n",
        "!sudo update-alternatives --install /usr/bin/python3 python3 /usr/bin/python3.8 1\n",
        "!sudo update-alternatives --config python3"
      ]
    },
    {
      "cell_type": "code",
      "source": [
        "!python3 --version\n",
        "!sudo apt install python3-pip"
      ],
      "metadata": {
        "id": "blPpqKyYvK3L"
      },
      "execution_count": null,
      "outputs": []
    },
    {
      "cell_type": "code",
      "execution_count": null,
      "metadata": {
        "id": "2RYE6nwYievp"
      },
      "outputs": [],
      "source": [
        "from google.colab import drive\n",
        "drive.mount('/content/drive')\n",
        "%cd '/content/drive/MyDrive'"
      ]
    },
    {
      "cell_type": "code",
      "source": [
        "%cd 'Inpaint-Anything'\n",
        "!pip install torch torchvision torchaudio\n",
        "!pip install -e segment_anything\n",
        "!pip install -r lama/requirements.txt"
      ],
      "metadata": {
        "id": "qJW5XrTtv2sM"
      },
      "execution_count": null,
      "outputs": []
    },
    {
      "cell_type": "code",
      "source": [
        "# !python -m pip install numpy==1.23.5\n",
        "!python -m pip install 'git+https://github.com/facebookresearch/detectron2.git'\n",
        "# !pip list\n"
      ],
      "metadata": {
        "id": "krxn0lSrFIfd"
      },
      "execution_count": null,
      "outputs": []
    },
    {
      "cell_type": "code",
      "source": [
        "!python remove_anything.py \\\n",
        "    --input_img ./example/remove-anything/dog.jpg \\\n",
        "    --coords_type key_in \\\n",
        "    --point_coords 200 450 \\\n",
        "    --point_labels 1 \\\n",
        "    --dilate_kernel_size 15 \\\n",
        "    --output_dir ./results \\\n",
        "    --sam_model_type \"vit_h\" \\\n",
        "    --sam_ckpt ./pretrained_models/sam_vit_h_4b8939.pth \\\n",
        "    --lama_config ./lama/configs/prediction/default.yaml \\\n",
        "    --lama_ckpt ./pretrained_models/big-lama"
      ],
      "metadata": {
        "id": "LVgvjr5zCITM"
      },
      "execution_count": null,
      "outputs": []
    }
  ]
}